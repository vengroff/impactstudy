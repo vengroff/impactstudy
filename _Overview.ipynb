{
 "cells": [
  {
   "cell_type": "markdown",
   "id": "b6557957-4acc-4e32-ba0f-092ff66d36be",
   "metadata": {},
   "source": [
    "# Experimental Overview\n",
    "\n",
    "This notebook acts as an overall table of contents and high-level\n",
    "summmary of the notebooks that make up this project."
   ]
  },
  {
   "cell_type": "markdown",
   "id": "84a9f9a8-1bd9-4691-af87-15bc8bb1bf1c",
   "metadata": {},
   "source": [
    "## Structure of Experiments\n",
    "\n",
    "In each experiment, we will work with a setup where we have an observed\n",
    "$y$ defined as \n",
    "\n",
    "$$\n",
    "y = f'(X') + Z\n",
    "$$\n",
    "\n",
    "Where $f'$ is some unknown function and $Z$ is some random noise.  \n",
    "\n",
    "The domain of $f'$ is $X'$, a vector of $m' = m + s$ features that\n",
    "is further broken down into $m$ features $X = (x_0, x_1, \\ldots, x_{m-1})$\n",
    "and $s$ confounding features $C = (c_0, c_1, \\ldots, c_{s-1})$. The difference\n",
    "between $X$ and $C$ is that the features $x_i \\in X$ have some impact on the\n",
    "value of $f'$ while the features in $c_i \\in C$ have no effect. Essentially,\n",
    "the $c_i$ are just there to confuse or confound us. We don't know which\n",
    "of the features we observe in $X'$ are the $x_i$ and which are the $c_i$.\n",
    "\n",
    "More formally, the function $f'$ can be written as\n",
    "\n",
    "$$\n",
    "f'(X') = f(X)\n",
    "$$\n",
    "\n",
    "for some function $f$ whose domain is $X$ and does not include any features\n",
    "from $C$.\n",
    "\n",
    "In each experiment we will:\n",
    "\n",
    "1. Set up the experiment:\n",
    "    1. Define the signal function $f(X)$;\n",
    "    1. Decided how $X$ and $C$ will be jointly distributed;\n",
    "    1. Define a model for the noise $Z$.\n",
    "1. Run the experiment:\n",
    "    1. Generate $n$ samples of $X'$ according to some joint distribution;\n",
    "    1. Generate impact charts for the impact of each feature or confounding feature in $X'$ on $y$.\n",
    "1. Evaluate the impacts $I$ found as compared to the true impacts encoded in the definition of $f'$.\n",
    "    1. What is the mean squared error between the modeled impact and the true impacts.\n",
    "    2. Are there non-zero impacts $I(c_i)$ and are they expected?"
   ]
  },
  {
   "cell_type": "code",
   "execution_count": null,
   "id": "2d500420-9f9a-4401-8f50-c84db9741006",
   "metadata": {},
   "outputs": [],
   "source": []
  }
 ],
 "metadata": {
  "kernelspec": {
   "display_name": "Python 3 (ipykernel)",
   "language": "python",
   "name": "python3"
  },
  "language_info": {
   "codemirror_mode": {
    "name": "ipython",
    "version": 3
   },
   "file_extension": ".py",
   "mimetype": "text/x-python",
   "name": "python",
   "nbconvert_exporter": "python",
   "pygments_lexer": "ipython3",
   "version": "3.11.4"
  }
 },
 "nbformat": 4,
 "nbformat_minor": 5
}
